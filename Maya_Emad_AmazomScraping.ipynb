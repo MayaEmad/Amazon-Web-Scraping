{
 "cells": [
  {
   "cell_type": "code",
   "execution_count": 2,
   "id": "2c7b387e",
   "metadata": {},
   "outputs": [
    {
     "name": "stdout",
     "output_type": "stream",
     "text": [
      "Requirement already satisfied: selenium in c:\\users\\maya emad\\anaconda3\\lib\\site-packages (4.23.1)\n",
      "Requirement already satisfied: trio~=0.17 in c:\\users\\maya emad\\anaconda3\\lib\\site-packages (from selenium) (0.26.0)\n",
      "Requirement already satisfied: urllib3[socks]<3,>=1.26 in c:\\users\\maya emad\\anaconda3\\lib\\site-packages (from selenium) (1.26.11)\n",
      "Requirement already satisfied: certifi>=2021.10.8 in c:\\users\\maya emad\\anaconda3\\lib\\site-packages (from selenium) (2022.9.14)\n",
      "Requirement already satisfied: typing_extensions~=4.9 in c:\\users\\maya emad\\anaconda3\\lib\\site-packages (from selenium) (4.12.2)\n",
      "Requirement already satisfied: websocket-client~=1.8 in c:\\users\\maya emad\\anaconda3\\lib\\site-packages (from selenium) (1.8.0)\n",
      "Requirement already satisfied: trio-websocket~=0.9 in c:\\users\\maya emad\\anaconda3\\lib\\site-packages (from selenium) (0.11.1)\n",
      "Requirement already satisfied: outcome in c:\\users\\maya emad\\anaconda3\\lib\\site-packages (from trio~=0.17->selenium) (1.3.0.post0)\n",
      "Requirement already satisfied: exceptiongroup in c:\\users\\maya emad\\anaconda3\\lib\\site-packages (from trio~=0.17->selenium) (1.2.2)\n",
      "Requirement already satisfied: sortedcontainers in c:\\users\\maya emad\\anaconda3\\lib\\site-packages (from trio~=0.17->selenium) (2.4.0)\n",
      "Requirement already satisfied: idna in c:\\users\\maya emad\\anaconda3\\lib\\site-packages (from trio~=0.17->selenium) (3.3)\n",
      "Requirement already satisfied: cffi>=1.14 in c:\\users\\maya emad\\anaconda3\\lib\\site-packages (from trio~=0.17->selenium) (1.15.1)\n",
      "Requirement already satisfied: sniffio>=1.3.0 in c:\\users\\maya emad\\anaconda3\\lib\\site-packages (from trio~=0.17->selenium) (1.3.1)\n",
      "Requirement already satisfied: attrs>=23.2.0 in c:\\users\\maya emad\\anaconda3\\lib\\site-packages (from trio~=0.17->selenium) (24.1.0)\n",
      "Requirement already satisfied: wsproto>=0.14 in c:\\users\\maya emad\\anaconda3\\lib\\site-packages (from trio-websocket~=0.9->selenium) (1.2.0)\n",
      "Requirement already satisfied: PySocks!=1.5.7,<2.0,>=1.5.6 in c:\\users\\maya emad\\anaconda3\\lib\\site-packages (from urllib3[socks]<3,>=1.26->selenium) (1.7.1)\n",
      "Requirement already satisfied: pycparser in c:\\users\\maya emad\\anaconda3\\lib\\site-packages (from cffi>=1.14->trio~=0.17->selenium) (2.21)\n",
      "Requirement already satisfied: h11<1,>=0.9.0 in c:\\users\\maya emad\\anaconda3\\lib\\site-packages (from wsproto>=0.14->trio-websocket~=0.9->selenium) (0.14.0)\n",
      "Note: you may need to restart the kernel to use updated packages.\n"
     ]
    }
   ],
   "source": [
    "pip install selenium"
   ]
  },
  {
   "cell_type": "code",
   "execution_count": 403,
   "id": "c3d8bcea",
   "metadata": {},
   "outputs": [],
   "source": [
    "from selenium import webdriver\n",
    "from selenium.common.exceptions import NoSuchElementException\n",
    "import pandas as pd"
   ]
  },
  {
   "cell_type": "code",
   "execution_count": 426,
   "id": "5d401749",
   "metadata": {},
   "outputs": [],
   "source": [
    "fawzi = webdriver.Chrome()\n",
    "fawzi.get(\"https://www.amazon.eg/s?i=electronics&bbn=18018102031&rh=n%3A21832883031&s=popularity-rank&fs=true&language=en_AE&ref=lp_21832883031_sar\")"
   ]
  },
  {
   "cell_type": "code",
   "execution_count": 457,
   "id": "256a7fd2",
   "metadata": {},
   "outputs": [
    {
     "data": {
      "text/plain": [
       "24"
      ]
     },
     "execution_count": 457,
     "metadata": {},
     "output_type": "execute_result"
    }
   ],
   "source": [
    "product_list = []\n",
    "products=fawzi.find_elements(\"xpath\",'//div[@class=\"a-section a-spacing-base\"]')\n",
    "for product in products:\n",
    "    product_list.append(product.text.split(',')[0])\n",
    "len(product_list)"
   ]
  },
  {
   "cell_type": "code",
   "execution_count": 455,
   "id": "4e57a778",
   "metadata": {},
   "outputs": [
    {
     "data": {
      "text/plain": [
       "24"
      ]
     },
     "execution_count": 455,
     "metadata": {},
     "output_type": "execute_result"
    }
   ],
   "source": [
    "price_list = []\n",
    "for product in products:\n",
    "    try:\n",
    "        price = product.find_element('xpath','.//span[@class=\"a-price-whole\"]')\n",
    "        price_list.append(price.text)\n",
    "    except NoSuchElementException :\n",
    "        price_list.append(\"No price found for this product\")\n",
    "len(price_list)"
   ]
  },
  {
   "cell_type": "code",
   "execution_count": 446,
   "id": "f2a37c17",
   "metadata": {},
   "outputs": [],
   "source": [
    "img_URLs =fawzi.find_elements(\"xpath\", '/html/body/div[1]/div[1]/div[1]/div[1]/div/span[1]/div[1]/div[*]/div/div/span/div/div/div[*]/span/a/div/img')"
   ]
  },
  {
   "cell_type": "code",
   "execution_count": 447,
   "id": "bd7a1aaa",
   "metadata": {},
   "outputs": [
    {
     "name": "stdout",
     "output_type": "stream",
     "text": [
      "24\n"
     ]
    }
   ],
   "source": [
    "img_URLs_list = []\n",
    "for URL in img_URLs:\n",
    "    img_URLs_list.append(URL.get_attribute('src'))\n",
    "print(len(img_URLs_list))"
   ]
  },
  {
   "cell_type": "code",
   "execution_count": 448,
   "id": "7cf57689",
   "metadata": {},
   "outputs": [
    {
     "name": "stdout",
     "output_type": "stream",
     "text": [
      "24\n"
     ]
    }
   ],
   "source": [
    "rating_list = []\n",
    "ratings =fawzi.find_elements(\"xpath\", '//a[contains(@aria-label, \"out of 5 stars\")]')\n",
    "for rating in ratings:\n",
    "    rating_list.append(rating.get_attribute(\"textContent\"))\n",
    "print(len(rating_list))"
   ]
  },
  {
   "cell_type": "code",
   "execution_count": 449,
   "id": "52c01740",
   "metadata": {},
   "outputs": [
    {
     "name": "stdout",
     "output_type": "stream",
     "text": [
      "24\n"
     ]
    }
   ],
   "source": [
    "num_rating_list = []\n",
    "num_rating =fawzi.find_elements(\"xpath\", '//span[@class=\"a-size-base s-underline-text\"]')\n",
    "for one_rating in num_rating:\n",
    "    num_rating_list.append(one_rating.text)\n",
    "print(len(num_rating_list))"
   ]
  },
  {
   "cell_type": "code",
   "execution_count": 459,
   "id": "558121f8",
   "metadata": {},
   "outputs": [],
   "source": [
    "mobileDF = pd.DataFrame({\"Product Name\": product_list,\n",
    "                 \"Price (EG)\" : price_list,\n",
    "                 \"Ratings\" : rating_list,\n",
    "                 \"Number of Reviews\" : num_rating_list,\n",
    "                 \"Image URL\" : img_URLs_list})"
   ]
  },
  {
   "cell_type": "code",
   "execution_count": 460,
   "id": "213f304a",
   "metadata": {},
   "outputs": [
    {
     "data": {
      "text/html": [
       "<div>\n",
       "<style scoped>\n",
       "    .dataframe tbody tr th:only-of-type {\n",
       "        vertical-align: middle;\n",
       "    }\n",
       "\n",
       "    .dataframe tbody tr th {\n",
       "        vertical-align: top;\n",
       "    }\n",
       "\n",
       "    .dataframe thead th {\n",
       "        text-align: right;\n",
       "    }\n",
       "</style>\n",
       "<table border=\"1\" class=\"dataframe\">\n",
       "  <thead>\n",
       "    <tr style=\"text-align: right;\">\n",
       "      <th></th>\n",
       "      <th>Product Name</th>\n",
       "      <th>Price (EG)</th>\n",
       "      <th>Ratings</th>\n",
       "      <th>Number of Reviews</th>\n",
       "      <th>Image URL</th>\n",
       "    </tr>\n",
       "  </thead>\n",
       "  <tbody>\n",
       "    <tr>\n",
       "      <th>0</th>\n",
       "      <td>Samsung Galaxy A15</td>\n",
       "      <td>8,899</td>\n",
       "      <td>4.1 out of 5 stars</td>\n",
       "      <td>3,133</td>\n",
       "      <td>https://m.media-amazon.com/images/I/51Cida8Rec...</td>\n",
       "    </tr>\n",
       "    <tr>\n",
       "      <th>1</th>\n",
       "      <td>Best Seller\\nXiaomi Redmi A3</td>\n",
       "      <td>3,999</td>\n",
       "      <td>3.6 out of 5 stars</td>\n",
       "      <td>163</td>\n",
       "      <td>https://m.media-amazon.com/images/I/7153ZxbAtd...</td>\n",
       "    </tr>\n",
       "    <tr>\n",
       "      <th>2</th>\n",
       "      <td>Samsung Galaxy A55 5G</td>\n",
       "      <td>22,499</td>\n",
       "      <td>4.1 out of 5 stars</td>\n",
       "      <td>883</td>\n",
       "      <td>https://m.media-amazon.com/images/I/61ERH+yIyi...</td>\n",
       "    </tr>\n",
       "    <tr>\n",
       "      <th>3</th>\n",
       "      <td>Nokia 106 TA-1564 DS NENA1 Dual SIM 48MB Ram+1...</td>\n",
       "      <td>750</td>\n",
       "      <td>4.0 out of 5 stars</td>\n",
       "      <td>43</td>\n",
       "      <td>https://m.media-amazon.com/images/I/515X1z3CmM...</td>\n",
       "    </tr>\n",
       "    <tr>\n",
       "      <th>4</th>\n",
       "      <td>Redmi Xiaomi 12 8GB RAM</td>\n",
       "      <td>6,666</td>\n",
       "      <td>3.7 out of 5 stars</td>\n",
       "      <td>46</td>\n",
       "      <td>https://m.media-amazon.com/images/I/513rNt-cvG...</td>\n",
       "    </tr>\n",
       "  </tbody>\n",
       "</table>\n",
       "</div>"
      ],
      "text/plain": [
       "                                        Product Name Price (EG)  \\\n",
       "0                                 Samsung Galaxy A15      8,899   \n",
       "1                       Best Seller\\nXiaomi Redmi A3      3,999   \n",
       "2                              Samsung Galaxy A55 5G     22,499   \n",
       "3  Nokia 106 TA-1564 DS NENA1 Dual SIM 48MB Ram+1...        750   \n",
       "4                            Redmi Xiaomi 12 8GB RAM      6,666   \n",
       "\n",
       "              Ratings Number of Reviews  \\\n",
       "0  4.1 out of 5 stars             3,133   \n",
       "1  3.6 out of 5 stars               163   \n",
       "2  4.1 out of 5 stars               883   \n",
       "3  4.0 out of 5 stars                43   \n",
       "4  3.7 out of 5 stars                46   \n",
       "\n",
       "                                           Image URL  \n",
       "0  https://m.media-amazon.com/images/I/51Cida8Rec...  \n",
       "1  https://m.media-amazon.com/images/I/7153ZxbAtd...  \n",
       "2  https://m.media-amazon.com/images/I/61ERH+yIyi...  \n",
       "3  https://m.media-amazon.com/images/I/515X1z3CmM...  \n",
       "4  https://m.media-amazon.com/images/I/513rNt-cvG...  "
      ]
     },
     "execution_count": 460,
     "metadata": {},
     "output_type": "execute_result"
    }
   ],
   "source": [
    "mobileDF.head()"
   ]
  },
  {
   "cell_type": "code",
   "execution_count": 462,
   "id": "88347f47",
   "metadata": {},
   "outputs": [
    {
     "name": "stdout",
     "output_type": "stream",
     "text": [
      "C:\\Users\\Maya Emad\n"
     ]
    }
   ],
   "source": [
    "import os\n",
    "print(os.getcwd())"
   ]
  },
  {
   "cell_type": "code",
   "execution_count": 461,
   "id": "70d65823",
   "metadata": {},
   "outputs": [],
   "source": [
    "mobileDF.to_csv(r\"C:\\Users\\Maya Emad\\mobiles.csv\")"
   ]
  },
  {
   "cell_type": "code",
   "execution_count": null,
   "id": "6edc4fb1",
   "metadata": {},
   "outputs": [],
   "source": []
  }
 ],
 "metadata": {
  "kernelspec": {
   "display_name": "Python 3 (ipykernel)",
   "language": "python",
   "name": "python3"
  },
  "language_info": {
   "codemirror_mode": {
    "name": "ipython",
    "version": 3
   },
   "file_extension": ".py",
   "mimetype": "text/x-python",
   "name": "python",
   "nbconvert_exporter": "python",
   "pygments_lexer": "ipython3",
   "version": "3.9.13"
  }
 },
 "nbformat": 4,
 "nbformat_minor": 5
}
